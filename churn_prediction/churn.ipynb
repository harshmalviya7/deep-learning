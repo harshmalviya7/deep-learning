{
 "cells": [
  {
   "cell_type": "code",
   "execution_count": 2,
   "metadata": {},
   "outputs": [],
   "source": [
    "import numpy as np\n",
    "import matplotlib.pyplot as plt\n",
    "import pandas as pd"
   ]
  },
  {
   "cell_type": "code",
   "execution_count": 3,
   "metadata": {},
   "outputs": [],
   "source": [
    "df=pd.read_csv('Churn_Modelling.csv')"
   ]
  },
  {
   "cell_type": "code",
   "execution_count": 4,
   "metadata": {},
   "outputs": [
    {
     "data": {
      "text/html": [
       "<div>\n",
       "<style scoped>\n",
       "    .dataframe tbody tr th:only-of-type {\n",
       "        vertical-align: middle;\n",
       "    }\n",
       "\n",
       "    .dataframe tbody tr th {\n",
       "        vertical-align: top;\n",
       "    }\n",
       "\n",
       "    .dataframe thead th {\n",
       "        text-align: right;\n",
       "    }\n",
       "</style>\n",
       "<table border=\"1\" class=\"dataframe\">\n",
       "  <thead>\n",
       "    <tr style=\"text-align: right;\">\n",
       "      <th></th>\n",
       "      <th>RowNumber</th>\n",
       "      <th>CustomerId</th>\n",
       "      <th>Surname</th>\n",
       "      <th>CreditScore</th>\n",
       "      <th>Geography</th>\n",
       "      <th>Gender</th>\n",
       "      <th>Age</th>\n",
       "      <th>Tenure</th>\n",
       "      <th>Balance</th>\n",
       "      <th>NumOfProducts</th>\n",
       "      <th>HasCrCard</th>\n",
       "      <th>IsActiveMember</th>\n",
       "      <th>EstimatedSalary</th>\n",
       "      <th>Exited</th>\n",
       "    </tr>\n",
       "  </thead>\n",
       "  <tbody>\n",
       "    <tr>\n",
       "      <th>0</th>\n",
       "      <td>1</td>\n",
       "      <td>15634602</td>\n",
       "      <td>Hargrave</td>\n",
       "      <td>619</td>\n",
       "      <td>France</td>\n",
       "      <td>Female</td>\n",
       "      <td>42</td>\n",
       "      <td>2</td>\n",
       "      <td>0.00</td>\n",
       "      <td>1</td>\n",
       "      <td>1</td>\n",
       "      <td>1</td>\n",
       "      <td>101348.88</td>\n",
       "      <td>1</td>\n",
       "    </tr>\n",
       "    <tr>\n",
       "      <th>1</th>\n",
       "      <td>2</td>\n",
       "      <td>15647311</td>\n",
       "      <td>Hill</td>\n",
       "      <td>608</td>\n",
       "      <td>Spain</td>\n",
       "      <td>Female</td>\n",
       "      <td>41</td>\n",
       "      <td>1</td>\n",
       "      <td>83807.86</td>\n",
       "      <td>1</td>\n",
       "      <td>0</td>\n",
       "      <td>1</td>\n",
       "      <td>112542.58</td>\n",
       "      <td>0</td>\n",
       "    </tr>\n",
       "    <tr>\n",
       "      <th>2</th>\n",
       "      <td>3</td>\n",
       "      <td>15619304</td>\n",
       "      <td>Onio</td>\n",
       "      <td>502</td>\n",
       "      <td>France</td>\n",
       "      <td>Female</td>\n",
       "      <td>42</td>\n",
       "      <td>8</td>\n",
       "      <td>159660.80</td>\n",
       "      <td>3</td>\n",
       "      <td>1</td>\n",
       "      <td>0</td>\n",
       "      <td>113931.57</td>\n",
       "      <td>1</td>\n",
       "    </tr>\n",
       "    <tr>\n",
       "      <th>3</th>\n",
       "      <td>4</td>\n",
       "      <td>15701354</td>\n",
       "      <td>Boni</td>\n",
       "      <td>699</td>\n",
       "      <td>France</td>\n",
       "      <td>Female</td>\n",
       "      <td>39</td>\n",
       "      <td>1</td>\n",
       "      <td>0.00</td>\n",
       "      <td>2</td>\n",
       "      <td>0</td>\n",
       "      <td>0</td>\n",
       "      <td>93826.63</td>\n",
       "      <td>0</td>\n",
       "    </tr>\n",
       "    <tr>\n",
       "      <th>4</th>\n",
       "      <td>5</td>\n",
       "      <td>15737888</td>\n",
       "      <td>Mitchell</td>\n",
       "      <td>850</td>\n",
       "      <td>Spain</td>\n",
       "      <td>Female</td>\n",
       "      <td>43</td>\n",
       "      <td>2</td>\n",
       "      <td>125510.82</td>\n",
       "      <td>1</td>\n",
       "      <td>1</td>\n",
       "      <td>1</td>\n",
       "      <td>79084.10</td>\n",
       "      <td>0</td>\n",
       "    </tr>\n",
       "  </tbody>\n",
       "</table>\n",
       "</div>"
      ],
      "text/plain": [
       "   RowNumber  CustomerId   Surname  CreditScore Geography  Gender  Age  \\\n",
       "0          1    15634602  Hargrave          619    France  Female   42   \n",
       "1          2    15647311      Hill          608     Spain  Female   41   \n",
       "2          3    15619304      Onio          502    France  Female   42   \n",
       "3          4    15701354      Boni          699    France  Female   39   \n",
       "4          5    15737888  Mitchell          850     Spain  Female   43   \n",
       "\n",
       "   Tenure    Balance  NumOfProducts  HasCrCard  IsActiveMember  \\\n",
       "0       2       0.00              1          1               1   \n",
       "1       1   83807.86              1          0               1   \n",
       "2       8  159660.80              3          1               0   \n",
       "3       1       0.00              2          0               0   \n",
       "4       2  125510.82              1          1               1   \n",
       "\n",
       "   EstimatedSalary  Exited  \n",
       "0        101348.88       1  \n",
       "1        112542.58       0  \n",
       "2        113931.57       1  \n",
       "3         93826.63       0  \n",
       "4         79084.10       0  "
      ]
     },
     "execution_count": 4,
     "metadata": {},
     "output_type": "execute_result"
    }
   ],
   "source": [
    "df.head()"
   ]
  },
  {
   "cell_type": "code",
   "execution_count": 5,
   "metadata": {},
   "outputs": [],
   "source": [
    "X=df.iloc[:,3:13]\n",
    "y=df.iloc[:,-1]"
   ]
  },
  {
   "cell_type": "code",
   "execution_count": 6,
   "metadata": {},
   "outputs": [
    {
     "data": {
      "text/html": [
       "<div>\n",
       "<style scoped>\n",
       "    .dataframe tbody tr th:only-of-type {\n",
       "        vertical-align: middle;\n",
       "    }\n",
       "\n",
       "    .dataframe tbody tr th {\n",
       "        vertical-align: top;\n",
       "    }\n",
       "\n",
       "    .dataframe thead th {\n",
       "        text-align: right;\n",
       "    }\n",
       "</style>\n",
       "<table border=\"1\" class=\"dataframe\">\n",
       "  <thead>\n",
       "    <tr style=\"text-align: right;\">\n",
       "      <th></th>\n",
       "      <th>CreditScore</th>\n",
       "      <th>Geography</th>\n",
       "      <th>Gender</th>\n",
       "      <th>Age</th>\n",
       "      <th>Tenure</th>\n",
       "      <th>Balance</th>\n",
       "      <th>NumOfProducts</th>\n",
       "      <th>HasCrCard</th>\n",
       "      <th>IsActiveMember</th>\n",
       "      <th>EstimatedSalary</th>\n",
       "    </tr>\n",
       "  </thead>\n",
       "  <tbody>\n",
       "    <tr>\n",
       "      <th>0</th>\n",
       "      <td>619</td>\n",
       "      <td>France</td>\n",
       "      <td>Female</td>\n",
       "      <td>42</td>\n",
       "      <td>2</td>\n",
       "      <td>0.00</td>\n",
       "      <td>1</td>\n",
       "      <td>1</td>\n",
       "      <td>1</td>\n",
       "      <td>101348.88</td>\n",
       "    </tr>\n",
       "    <tr>\n",
       "      <th>1</th>\n",
       "      <td>608</td>\n",
       "      <td>Spain</td>\n",
       "      <td>Female</td>\n",
       "      <td>41</td>\n",
       "      <td>1</td>\n",
       "      <td>83807.86</td>\n",
       "      <td>1</td>\n",
       "      <td>0</td>\n",
       "      <td>1</td>\n",
       "      <td>112542.58</td>\n",
       "    </tr>\n",
       "    <tr>\n",
       "      <th>2</th>\n",
       "      <td>502</td>\n",
       "      <td>France</td>\n",
       "      <td>Female</td>\n",
       "      <td>42</td>\n",
       "      <td>8</td>\n",
       "      <td>159660.80</td>\n",
       "      <td>3</td>\n",
       "      <td>1</td>\n",
       "      <td>0</td>\n",
       "      <td>113931.57</td>\n",
       "    </tr>\n",
       "    <tr>\n",
       "      <th>3</th>\n",
       "      <td>699</td>\n",
       "      <td>France</td>\n",
       "      <td>Female</td>\n",
       "      <td>39</td>\n",
       "      <td>1</td>\n",
       "      <td>0.00</td>\n",
       "      <td>2</td>\n",
       "      <td>0</td>\n",
       "      <td>0</td>\n",
       "      <td>93826.63</td>\n",
       "    </tr>\n",
       "    <tr>\n",
       "      <th>4</th>\n",
       "      <td>850</td>\n",
       "      <td>Spain</td>\n",
       "      <td>Female</td>\n",
       "      <td>43</td>\n",
       "      <td>2</td>\n",
       "      <td>125510.82</td>\n",
       "      <td>1</td>\n",
       "      <td>1</td>\n",
       "      <td>1</td>\n",
       "      <td>79084.10</td>\n",
       "    </tr>\n",
       "  </tbody>\n",
       "</table>\n",
       "</div>"
      ],
      "text/plain": [
       "   CreditScore Geography  Gender  Age  Tenure    Balance  NumOfProducts  \\\n",
       "0          619    France  Female   42       2       0.00              1   \n",
       "1          608     Spain  Female   41       1   83807.86              1   \n",
       "2          502    France  Female   42       8  159660.80              3   \n",
       "3          699    France  Female   39       1       0.00              2   \n",
       "4          850     Spain  Female   43       2  125510.82              1   \n",
       "\n",
       "   HasCrCard  IsActiveMember  EstimatedSalary  \n",
       "0          1               1        101348.88  \n",
       "1          0               1        112542.58  \n",
       "2          1               0        113931.57  \n",
       "3          0               0         93826.63  \n",
       "4          1               1         79084.10  "
      ]
     },
     "execution_count": 6,
     "metadata": {},
     "output_type": "execute_result"
    }
   ],
   "source": [
    "X.head()"
   ]
  },
  {
   "cell_type": "code",
   "execution_count": 7,
   "metadata": {},
   "outputs": [
    {
     "data": {
      "text/plain": [
       "0    1\n",
       "1    0\n",
       "2    1\n",
       "3    0\n",
       "4    0\n",
       "Name: Exited, dtype: int64"
      ]
     },
     "execution_count": 7,
     "metadata": {},
     "output_type": "execute_result"
    }
   ],
   "source": [
    "y.head()"
   ]
  },
  {
   "cell_type": "code",
   "execution_count": 8,
   "metadata": {},
   "outputs": [],
   "source": [
    "Geography=pd.get_dummies(X['Geography'],drop_first=True)\n",
    "Gender=pd.get_dummies(X['Gender'],drop_first=True)"
   ]
  },
  {
   "cell_type": "code",
   "execution_count": 9,
   "metadata": {},
   "outputs": [],
   "source": [
    "X=pd.concat([X,Geography,Gender],axis=1)"
   ]
  },
  {
   "cell_type": "code",
   "execution_count": 10,
   "metadata": {},
   "outputs": [],
   "source": [
    "X.drop(['Geography','Gender'],axis=1,inplace=True)"
   ]
  },
  {
   "cell_type": "code",
   "execution_count": 11,
   "metadata": {},
   "outputs": [
    {
     "data": {
      "text/html": [
       "<div>\n",
       "<style scoped>\n",
       "    .dataframe tbody tr th:only-of-type {\n",
       "        vertical-align: middle;\n",
       "    }\n",
       "\n",
       "    .dataframe tbody tr th {\n",
       "        vertical-align: top;\n",
       "    }\n",
       "\n",
       "    .dataframe thead th {\n",
       "        text-align: right;\n",
       "    }\n",
       "</style>\n",
       "<table border=\"1\" class=\"dataframe\">\n",
       "  <thead>\n",
       "    <tr style=\"text-align: right;\">\n",
       "      <th></th>\n",
       "      <th>CreditScore</th>\n",
       "      <th>Age</th>\n",
       "      <th>Tenure</th>\n",
       "      <th>Balance</th>\n",
       "      <th>NumOfProducts</th>\n",
       "      <th>HasCrCard</th>\n",
       "      <th>IsActiveMember</th>\n",
       "      <th>EstimatedSalary</th>\n",
       "      <th>Germany</th>\n",
       "      <th>Spain</th>\n",
       "      <th>Male</th>\n",
       "    </tr>\n",
       "  </thead>\n",
       "  <tbody>\n",
       "    <tr>\n",
       "      <th>0</th>\n",
       "      <td>619</td>\n",
       "      <td>42</td>\n",
       "      <td>2</td>\n",
       "      <td>0.00</td>\n",
       "      <td>1</td>\n",
       "      <td>1</td>\n",
       "      <td>1</td>\n",
       "      <td>101348.88</td>\n",
       "      <td>0</td>\n",
       "      <td>0</td>\n",
       "      <td>0</td>\n",
       "    </tr>\n",
       "    <tr>\n",
       "      <th>1</th>\n",
       "      <td>608</td>\n",
       "      <td>41</td>\n",
       "      <td>1</td>\n",
       "      <td>83807.86</td>\n",
       "      <td>1</td>\n",
       "      <td>0</td>\n",
       "      <td>1</td>\n",
       "      <td>112542.58</td>\n",
       "      <td>0</td>\n",
       "      <td>1</td>\n",
       "      <td>0</td>\n",
       "    </tr>\n",
       "    <tr>\n",
       "      <th>2</th>\n",
       "      <td>502</td>\n",
       "      <td>42</td>\n",
       "      <td>8</td>\n",
       "      <td>159660.80</td>\n",
       "      <td>3</td>\n",
       "      <td>1</td>\n",
       "      <td>0</td>\n",
       "      <td>113931.57</td>\n",
       "      <td>0</td>\n",
       "      <td>0</td>\n",
       "      <td>0</td>\n",
       "    </tr>\n",
       "    <tr>\n",
       "      <th>3</th>\n",
       "      <td>699</td>\n",
       "      <td>39</td>\n",
       "      <td>1</td>\n",
       "      <td>0.00</td>\n",
       "      <td>2</td>\n",
       "      <td>0</td>\n",
       "      <td>0</td>\n",
       "      <td>93826.63</td>\n",
       "      <td>0</td>\n",
       "      <td>0</td>\n",
       "      <td>0</td>\n",
       "    </tr>\n",
       "    <tr>\n",
       "      <th>4</th>\n",
       "      <td>850</td>\n",
       "      <td>43</td>\n",
       "      <td>2</td>\n",
       "      <td>125510.82</td>\n",
       "      <td>1</td>\n",
       "      <td>1</td>\n",
       "      <td>1</td>\n",
       "      <td>79084.10</td>\n",
       "      <td>0</td>\n",
       "      <td>1</td>\n",
       "      <td>0</td>\n",
       "    </tr>\n",
       "  </tbody>\n",
       "</table>\n",
       "</div>"
      ],
      "text/plain": [
       "   CreditScore  Age  Tenure    Balance  NumOfProducts  HasCrCard  \\\n",
       "0          619   42       2       0.00              1          1   \n",
       "1          608   41       1   83807.86              1          0   \n",
       "2          502   42       8  159660.80              3          1   \n",
       "3          699   39       1       0.00              2          0   \n",
       "4          850   43       2  125510.82              1          1   \n",
       "\n",
       "   IsActiveMember  EstimatedSalary  Germany  Spain  Male  \n",
       "0               1        101348.88        0      0     0  \n",
       "1               1        112542.58        0      1     0  \n",
       "2               0        113931.57        0      0     0  \n",
       "3               0         93826.63        0      0     0  \n",
       "4               1         79084.10        0      1     0  "
      ]
     },
     "execution_count": 11,
     "metadata": {},
     "output_type": "execute_result"
    }
   ],
   "source": [
    "X.head()"
   ]
  },
  {
   "cell_type": "code",
   "execution_count": 12,
   "metadata": {},
   "outputs": [],
   "source": [
    "from sklearn.model_selection import train_test_split"
   ]
  },
  {
   "cell_type": "code",
   "execution_count": 41,
   "metadata": {},
   "outputs": [],
   "source": [
    "X_train, X_test, y_train, y_test = train_test_split(X, y, test_size=0.2, random_state=0)"
   ]
  },
  {
   "cell_type": "code",
   "execution_count": 42,
   "metadata": {},
   "outputs": [],
   "source": [
    "from sklearn.preprocessing import StandardScaler\n",
    "sc=StandardScaler()"
   ]
  },
  {
   "cell_type": "code",
   "execution_count": 43,
   "metadata": {},
   "outputs": [],
   "source": [
    "X_train=sc.fit_transform(X_train)\n",
    "X_test=sc.transform(X_test)"
   ]
  },
  {
   "cell_type": "code",
   "execution_count": 44,
   "metadata": {},
   "outputs": [
    {
     "data": {
      "text/plain": [
       "(8000, 11)"
      ]
     },
     "execution_count": 44,
     "metadata": {},
     "output_type": "execute_result"
    }
   ],
   "source": [
    "X_train.shape"
   ]
  },
  {
   "cell_type": "code",
   "execution_count": 45,
   "metadata": {},
   "outputs": [],
   "source": [
    "from tensorflow import keras"
   ]
  },
  {
   "cell_type": "code",
   "execution_count": 46,
   "metadata": {},
   "outputs": [],
   "source": [
    "model = keras.models.Sequential([\n",
    " \n",
    "    keras.layers.Dense(6, activation=\"relu\",kernel_initializer='he_uniform',input_shape=(11,)),\n",
    "    keras.layers.Dense(6, activation=\"relu\",kernel_initializer='he_uniform'),\n",
    "    keras.layers.Dense(1, activation=\"sigmoid\",kernel_initializer='glorot_uniform')\n",
    "])"
   ]
  },
  {
   "cell_type": "code",
   "execution_count": 47,
   "metadata": {},
   "outputs": [
    {
     "name": "stdout",
     "output_type": "stream",
     "text": [
      "Model: \"sequential_1\"\n",
      "_________________________________________________________________\n",
      "Layer (type)                 Output Shape              Param #   \n",
      "=================================================================\n",
      "dense_3 (Dense)              (None, 6)                 72        \n",
      "_________________________________________________________________\n",
      "dense_4 (Dense)              (None, 6)                 42        \n",
      "_________________________________________________________________\n",
      "dense_5 (Dense)              (None, 1)                 7         \n",
      "=================================================================\n",
      "Total params: 121\n",
      "Trainable params: 121\n",
      "Non-trainable params: 0\n",
      "_________________________________________________________________\n"
     ]
    }
   ],
   "source": [
    "model.summary()"
   ]
  },
  {
   "cell_type": "code",
   "execution_count": 48,
   "metadata": {},
   "outputs": [
    {
     "data": {
      "text/plain": [
       "[<tensorflow.python.keras.layers.core.Dense at 0x29577d574e0>,\n",
       " <tensorflow.python.keras.layers.core.Dense at 0x29577d57390>,\n",
       " <tensorflow.python.keras.layers.core.Dense at 0x29577d49cf8>]"
      ]
     },
     "execution_count": 48,
     "metadata": {},
     "output_type": "execute_result"
    }
   ],
   "source": [
    "model.layers"
   ]
  },
  {
   "cell_type": "code",
   "execution_count": 49,
   "metadata": {},
   "outputs": [],
   "source": [
    "model.compile(loss=\"binary_crossentropy\",\n",
    "              optimizer=\"Adamax\",\n",
    "              metrics=[\"accuracy\"])"
   ]
  },
  {
   "cell_type": "code",
   "execution_count": 50,
   "metadata": {},
   "outputs": [
    {
     "name": "stdout",
     "output_type": "stream",
     "text": [
      "Train on 5359 samples, validate on 2641 samples\n",
      "Epoch 1/100\n",
      "5359/5359 [==============================] - 1s 206us/sample - loss: 1.0244 - accuracy: 0.4135 - val_loss: 0.8344 - val_accuracy: 0.4930\n",
      "Epoch 2/100\n",
      "5359/5359 [==============================] - 1s 136us/sample - loss: 0.7289 - accuracy: 0.5777 - val_loss: 0.6540 - val_accuracy: 0.6350\n",
      "Epoch 3/100\n",
      "5359/5359 [==============================] - 1s 143us/sample - loss: 0.6036 - accuracy: 0.6777 - val_loss: 0.5692 - val_accuracy: 0.7012\n",
      "Epoch 4/100\n",
      "5359/5359 [==============================] - 1s 137us/sample - loss: 0.5405 - accuracy: 0.7354 - val_loss: 0.5233 - val_accuracy: 0.7448\n",
      "Epoch 5/100\n",
      "5359/5359 [==============================] - 1s 143us/sample - loss: 0.5041 - accuracy: 0.7645 - val_loss: 0.4944 - val_accuracy: 0.7637\n",
      "Epoch 6/100\n",
      "5359/5359 [==============================] - 1s 146us/sample - loss: 0.4808 - accuracy: 0.7841 - val_loss: 0.4759 - val_accuracy: 0.7838\n",
      "Epoch 7/100\n",
      "5359/5359 [==============================] - 1s 140us/sample - loss: 0.4648 - accuracy: 0.7953 - val_loss: 0.4630 - val_accuracy: 0.7880\n",
      "Epoch 8/100\n",
      "5359/5359 [==============================] - 1s 156us/sample - loss: 0.4531 - accuracy: 0.7996 - val_loss: 0.4532 - val_accuracy: 0.7936\n",
      "Epoch 9/100\n",
      "5359/5359 [==============================] - 1s 155us/sample - loss: 0.4435 - accuracy: 0.8043 - val_loss: 0.4455 - val_accuracy: 0.7997\n",
      "Epoch 10/100\n",
      "5359/5359 [==============================] - 1s 152us/sample - loss: 0.4356 - accuracy: 0.8076 - val_loss: 0.4395 - val_accuracy: 0.8023\n",
      "Epoch 11/100\n",
      "5359/5359 [==============================] - 1s 135us/sample - loss: 0.4288 - accuracy: 0.8087 - val_loss: 0.4342 - val_accuracy: 0.8039\n",
      "Epoch 12/100\n",
      "5359/5359 [==============================] - 1s 141us/sample - loss: 0.4227 - accuracy: 0.8080 - val_loss: 0.4296 - val_accuracy: 0.8092\n",
      "Epoch 13/100\n",
      "5359/5359 [==============================] - 1s 141us/sample - loss: 0.4172 - accuracy: 0.8087 - val_loss: 0.4253 - val_accuracy: 0.8133\n",
      "Epoch 14/100\n",
      "5359/5359 [==============================] - 1s 140us/sample - loss: 0.4119 - accuracy: 0.8106 - val_loss: 0.4212 - val_accuracy: 0.8152\n",
      "Epoch 15/100\n",
      "5359/5359 [==============================] - 1s 141us/sample - loss: 0.4068 - accuracy: 0.8153 - val_loss: 0.4173 - val_accuracy: 0.8148\n",
      "Epoch 16/100\n",
      "5359/5359 [==============================] - 1s 159us/sample - loss: 0.4019 - accuracy: 0.8188 - val_loss: 0.4137 - val_accuracy: 0.8164\n",
      "Epoch 17/100\n",
      "5359/5359 [==============================] - 1s 145us/sample - loss: 0.3976 - accuracy: 0.8233 - val_loss: 0.4104 - val_accuracy: 0.8175\n",
      "Epoch 18/100\n",
      "5359/5359 [==============================] - 1s 143us/sample - loss: 0.3937 - accuracy: 0.8257 - val_loss: 0.4073 - val_accuracy: 0.8190\n",
      "Epoch 19/100\n",
      "5359/5359 [==============================] - 1s 156us/sample - loss: 0.3902 - accuracy: 0.8283 - val_loss: 0.4045 - val_accuracy: 0.8213\n",
      "Epoch 20/100\n",
      "5359/5359 [==============================] - 1s 192us/sample - loss: 0.3869 - accuracy: 0.8302 - val_loss: 0.4020 - val_accuracy: 0.8232\n",
      "Epoch 21/100\n",
      "5359/5359 [==============================] - 1s 157us/sample - loss: 0.3841 - accuracy: 0.8322 - val_loss: 0.3997 - val_accuracy: 0.8228\n",
      "Epoch 22/100\n",
      "5359/5359 [==============================] - 1s 164us/sample - loss: 0.3817 - accuracy: 0.8334 - val_loss: 0.3975 - val_accuracy: 0.8247\n",
      "Epoch 23/100\n",
      "5359/5359 [==============================] - 1s 145us/sample - loss: 0.3795 - accuracy: 0.8360 - val_loss: 0.3954 - val_accuracy: 0.8254\n",
      "Epoch 24/100\n",
      "5359/5359 [==============================] - 1s 153us/sample - loss: 0.3773 - accuracy: 0.8373 - val_loss: 0.3938 - val_accuracy: 0.8254\n",
      "Epoch 25/100\n",
      "5359/5359 [==============================] - 1s 143us/sample - loss: 0.3755 - accuracy: 0.8390 - val_loss: 0.3923 - val_accuracy: 0.8266\n",
      "Epoch 26/100\n",
      "5359/5359 [==============================] - 1s 149us/sample - loss: 0.3738 - accuracy: 0.8393 - val_loss: 0.3908 - val_accuracy: 0.8281\n",
      "Epoch 27/100\n",
      "5359/5359 [==============================] - 1s 148us/sample - loss: 0.3723 - accuracy: 0.8397 - val_loss: 0.3894 - val_accuracy: 0.8300\n",
      "Epoch 28/100\n",
      "5359/5359 [==============================] - 1s 145us/sample - loss: 0.3709 - accuracy: 0.8414 - val_loss: 0.3882 - val_accuracy: 0.8307\n",
      "Epoch 29/100\n",
      "5359/5359 [==============================] - 1s 145us/sample - loss: 0.3697 - accuracy: 0.8427 - val_loss: 0.3870 - val_accuracy: 0.8304\n",
      "Epoch 30/100\n",
      "5359/5359 [==============================] - 1s 150us/sample - loss: 0.3685 - accuracy: 0.8423 - val_loss: 0.3860 - val_accuracy: 0.8304\n",
      "Epoch 31/100\n",
      "5359/5359 [==============================] - 1s 152us/sample - loss: 0.3673 - accuracy: 0.8434 - val_loss: 0.3850 - val_accuracy: 0.8296\n",
      "Epoch 32/100\n",
      "5359/5359 [==============================] - 1s 151us/sample - loss: 0.3664 - accuracy: 0.8433 - val_loss: 0.3842 - val_accuracy: 0.8315\n",
      "Epoch 33/100\n",
      "5359/5359 [==============================] - 1s 142us/sample - loss: 0.3654 - accuracy: 0.8436 - val_loss: 0.3834 - val_accuracy: 0.8319\n",
      "Epoch 34/100\n",
      "5359/5359 [==============================] - 1s 154us/sample - loss: 0.3644 - accuracy: 0.8455 - val_loss: 0.3827 - val_accuracy: 0.8315\n",
      "Epoch 35/100\n",
      "5359/5359 [==============================] - 1s 159us/sample - loss: 0.3636 - accuracy: 0.8462 - val_loss: 0.3822 - val_accuracy: 0.8338\n",
      "Epoch 36/100\n",
      "5359/5359 [==============================] - 1s 149us/sample - loss: 0.3628 - accuracy: 0.8481 - val_loss: 0.3817 - val_accuracy: 0.8338\n",
      "Epoch 37/100\n",
      "5359/5359 [==============================] - 1s 151us/sample - loss: 0.3621 - accuracy: 0.8474 - val_loss: 0.3812 - val_accuracy: 0.8342\n",
      "Epoch 38/100\n",
      "5359/5359 [==============================] - 1s 148us/sample - loss: 0.3615 - accuracy: 0.8485 - val_loss: 0.3807 - val_accuracy: 0.8342\n",
      "Epoch 39/100\n",
      "5359/5359 [==============================] - 1s 149us/sample - loss: 0.3609 - accuracy: 0.8487 - val_loss: 0.3803 - val_accuracy: 0.8349\n",
      "Epoch 40/100\n",
      "5359/5359 [==============================] - 1s 148us/sample - loss: 0.3603 - accuracy: 0.8489 - val_loss: 0.3799 - val_accuracy: 0.8349\n",
      "Epoch 41/100\n",
      "5359/5359 [==============================] - 1s 148us/sample - loss: 0.3598 - accuracy: 0.8490 - val_loss: 0.3796 - val_accuracy: 0.8357\n",
      "Epoch 42/100\n",
      "5359/5359 [==============================] - 1s 143us/sample - loss: 0.3593 - accuracy: 0.8485 - val_loss: 0.3794 - val_accuracy: 0.8368\n",
      "Epoch 43/100\n",
      "5359/5359 [==============================] - 1s 145us/sample - loss: 0.3587 - accuracy: 0.8496 - val_loss: 0.3791 - val_accuracy: 0.8360\n",
      "Epoch 44/100\n",
      "5359/5359 [==============================] - 1s 145us/sample - loss: 0.3583 - accuracy: 0.8498 - val_loss: 0.3789 - val_accuracy: 0.8383\n",
      "Epoch 45/100\n",
      "5359/5359 [==============================] - 1s 149us/sample - loss: 0.3578 - accuracy: 0.8505 - val_loss: 0.3789 - val_accuracy: 0.8391\n",
      "Epoch 46/100\n",
      "5359/5359 [==============================] - 1s 146us/sample - loss: 0.3574 - accuracy: 0.8520 - val_loss: 0.3785 - val_accuracy: 0.8406\n",
      "Epoch 47/100\n",
      "5359/5359 [==============================] - 1s 141us/sample - loss: 0.3571 - accuracy: 0.8502 - val_loss: 0.3785 - val_accuracy: 0.8406\n",
      "Epoch 48/100\n",
      "5359/5359 [==============================] - 1s 147us/sample - loss: 0.3568 - accuracy: 0.8505 - val_loss: 0.3783 - val_accuracy: 0.8413\n",
      "Epoch 49/100\n",
      "5359/5359 [==============================] - 1s 150us/sample - loss: 0.3564 - accuracy: 0.8515 - val_loss: 0.3782 - val_accuracy: 0.8410\n",
      "Epoch 50/100\n",
      "5359/5359 [==============================] - 1s 147us/sample - loss: 0.3561 - accuracy: 0.8515 - val_loss: 0.3782 - val_accuracy: 0.8413\n",
      "Epoch 51/100\n",
      "5359/5359 [==============================] - 1s 152us/sample - loss: 0.3559 - accuracy: 0.8507 - val_loss: 0.3779 - val_accuracy: 0.8417\n",
      "Epoch 52/100\n",
      "5359/5359 [==============================] - 1s 156us/sample - loss: 0.3556 - accuracy: 0.8505 - val_loss: 0.3779 - val_accuracy: 0.8417\n",
      "Epoch 53/100\n",
      "5359/5359 [==============================] - 1s 151us/sample - loss: 0.3553 - accuracy: 0.8505 - val_loss: 0.3778 - val_accuracy: 0.8413\n",
      "Epoch 54/100\n",
      "5359/5359 [==============================] - 1s 148us/sample - loss: 0.3550 - accuracy: 0.8517 - val_loss: 0.3776 - val_accuracy: 0.8417\n",
      "Epoch 55/100\n"
     ]
    },
    {
     "name": "stdout",
     "output_type": "stream",
     "text": [
      "5359/5359 [==============================] - 1s 156us/sample - loss: 0.3548 - accuracy: 0.8515 - val_loss: 0.3775 - val_accuracy: 0.8410\n",
      "Epoch 56/100\n",
      "5359/5359 [==============================] - 1s 269us/sample - loss: 0.3545 - accuracy: 0.8526 - val_loss: 0.3773 - val_accuracy: 0.8417\n",
      "Epoch 57/100\n",
      "5359/5359 [==============================] - 2s 341us/sample - loss: 0.3543 - accuracy: 0.8518 - val_loss: 0.3772 - val_accuracy: 0.8413\n",
      "Epoch 58/100\n",
      "5359/5359 [==============================] - 1s 195us/sample - loss: 0.3541 - accuracy: 0.8528 - val_loss: 0.3771 - val_accuracy: 0.8410\n",
      "Epoch 59/100\n",
      "5359/5359 [==============================] - 1s 200us/sample - loss: 0.3538 - accuracy: 0.8520 - val_loss: 0.3770 - val_accuracy: 0.8425\n",
      "Epoch 60/100\n",
      "5359/5359 [==============================] - 1s 217us/sample - loss: 0.3536 - accuracy: 0.8526 - val_loss: 0.3769 - val_accuracy: 0.8413\n",
      "Epoch 61/100\n",
      "5359/5359 [==============================] - 1s 185us/sample - loss: 0.3533 - accuracy: 0.8518 - val_loss: 0.3767 - val_accuracy: 0.8406\n",
      "Epoch 62/100\n",
      "5359/5359 [==============================] - 1s 171us/sample - loss: 0.3530 - accuracy: 0.8511 - val_loss: 0.3766 - val_accuracy: 0.8402\n",
      "Epoch 63/100\n",
      "5359/5359 [==============================] - 1s 196us/sample - loss: 0.3529 - accuracy: 0.8520 - val_loss: 0.3765 - val_accuracy: 0.8402\n",
      "Epoch 64/100\n",
      "5359/5359 [==============================] - 1s 184us/sample - loss: 0.3527 - accuracy: 0.8511 - val_loss: 0.3763 - val_accuracy: 0.8406\n",
      "Epoch 65/100\n",
      "5359/5359 [==============================] - 1s 171us/sample - loss: 0.3524 - accuracy: 0.8520 - val_loss: 0.3762 - val_accuracy: 0.8395\n",
      "Epoch 66/100\n",
      "5359/5359 [==============================] - 1s 172us/sample - loss: 0.3523 - accuracy: 0.8518 - val_loss: 0.3760 - val_accuracy: 0.8398\n",
      "Epoch 67/100\n",
      "5359/5359 [==============================] - 1s 170us/sample - loss: 0.3521 - accuracy: 0.8517 - val_loss: 0.3760 - val_accuracy: 0.8406\n",
      "Epoch 68/100\n",
      "5359/5359 [==============================] - 1s 180us/sample - loss: 0.3519 - accuracy: 0.8520 - val_loss: 0.3758 - val_accuracy: 0.8395\n",
      "Epoch 69/100\n",
      "5359/5359 [==============================] - 1s 191us/sample - loss: 0.3517 - accuracy: 0.8522 - val_loss: 0.3758 - val_accuracy: 0.8402\n",
      "Epoch 70/100\n",
      "5359/5359 [==============================] - 1s 181us/sample - loss: 0.3516 - accuracy: 0.8522 - val_loss: 0.3757 - val_accuracy: 0.8410\n",
      "Epoch 71/100\n",
      "5359/5359 [==============================] - 1s 182us/sample - loss: 0.3513 - accuracy: 0.8526 - val_loss: 0.3757 - val_accuracy: 0.8417\n",
      "Epoch 72/100\n",
      "5359/5359 [==============================] - 1s 164us/sample - loss: 0.3511 - accuracy: 0.8518 - val_loss: 0.3756 - val_accuracy: 0.8398\n",
      "Epoch 73/100\n",
      "5359/5359 [==============================] - 1s 164us/sample - loss: 0.3510 - accuracy: 0.8531 - val_loss: 0.3755 - val_accuracy: 0.8398\n",
      "Epoch 74/100\n",
      "5359/5359 [==============================] - 1s 159us/sample - loss: 0.3509 - accuracy: 0.8513 - val_loss: 0.3755 - val_accuracy: 0.8413\n",
      "Epoch 75/100\n",
      "5359/5359 [==============================] - 1s 161us/sample - loss: 0.3507 - accuracy: 0.8522 - val_loss: 0.3754 - val_accuracy: 0.8406\n",
      "Epoch 76/100\n",
      "5359/5359 [==============================] - 1s 160us/sample - loss: 0.3505 - accuracy: 0.8520 - val_loss: 0.3752 - val_accuracy: 0.8413\n",
      "Epoch 77/100\n",
      "5359/5359 [==============================] - 1s 163us/sample - loss: 0.3504 - accuracy: 0.8522 - val_loss: 0.3751 - val_accuracy: 0.8410\n",
      "Epoch 78/100\n",
      "5359/5359 [==============================] - 1s 157us/sample - loss: 0.3502 - accuracy: 0.8528 - val_loss: 0.3751 - val_accuracy: 0.8410\n",
      "Epoch 79/100\n",
      "5359/5359 [==============================] - 1s 169us/sample - loss: 0.3499 - accuracy: 0.8531 - val_loss: 0.3751 - val_accuracy: 0.8421\n",
      "Epoch 80/100\n",
      "5359/5359 [==============================] - 1s 164us/sample - loss: 0.3497 - accuracy: 0.8543 - val_loss: 0.3749 - val_accuracy: 0.8432\n",
      "Epoch 81/100\n",
      "5359/5359 [==============================] - 1s 165us/sample - loss: 0.3495 - accuracy: 0.8543 - val_loss: 0.3748 - val_accuracy: 0.8421\n",
      "Epoch 82/100\n",
      "5359/5359 [==============================] - 1s 163us/sample - loss: 0.3496 - accuracy: 0.8541 - val_loss: 0.3748 - val_accuracy: 0.8421\n",
      "Epoch 83/100\n",
      "5359/5359 [==============================] - 1s 158us/sample - loss: 0.3492 - accuracy: 0.8531 - val_loss: 0.3748 - val_accuracy: 0.8425\n",
      "Epoch 84/100\n",
      "5359/5359 [==============================] - 1s 164us/sample - loss: 0.3492 - accuracy: 0.8546 - val_loss: 0.3747 - val_accuracy: 0.8436\n",
      "Epoch 85/100\n",
      "5359/5359 [==============================] - 1s 171us/sample - loss: 0.3490 - accuracy: 0.8543 - val_loss: 0.3747 - val_accuracy: 0.8421\n",
      "Epoch 86/100\n",
      "5359/5359 [==============================] - 1s 182us/sample - loss: 0.3489 - accuracy: 0.8543 - val_loss: 0.3746 - val_accuracy: 0.8413\n",
      "Epoch 87/100\n",
      "5359/5359 [==============================] - 1s 183us/sample - loss: 0.3488 - accuracy: 0.8546 - val_loss: 0.3746 - val_accuracy: 0.8417\n",
      "Epoch 88/100\n",
      "5359/5359 [==============================] - 1s 170us/sample - loss: 0.3487 - accuracy: 0.8546 - val_loss: 0.3746 - val_accuracy: 0.8421\n",
      "Epoch 89/100\n",
      "5359/5359 [==============================] - 1s 172us/sample - loss: 0.3486 - accuracy: 0.8554 - val_loss: 0.3745 - val_accuracy: 0.8425\n",
      "Epoch 90/100\n",
      "5359/5359 [==============================] - 1s 166us/sample - loss: 0.3484 - accuracy: 0.8543 - val_loss: 0.3745 - val_accuracy: 0.8413\n",
      "Epoch 91/100\n",
      "5359/5359 [==============================] - 1s 165us/sample - loss: 0.3483 - accuracy: 0.8550 - val_loss: 0.3744 - val_accuracy: 0.8425\n",
      "Epoch 92/100\n",
      "5359/5359 [==============================] - 1s 163us/sample - loss: 0.3481 - accuracy: 0.8552 - val_loss: 0.3745 - val_accuracy: 0.8413\n",
      "Epoch 93/100\n",
      "5359/5359 [==============================] - 1s 160us/sample - loss: 0.3481 - accuracy: 0.8558 - val_loss: 0.3745 - val_accuracy: 0.8417\n",
      "Epoch 94/100\n",
      "5359/5359 [==============================] - 1s 162us/sample - loss: 0.3479 - accuracy: 0.8556 - val_loss: 0.3745 - val_accuracy: 0.8417\n",
      "Epoch 95/100\n",
      "5359/5359 [==============================] - 1s 163us/sample - loss: 0.3478 - accuracy: 0.8559 - val_loss: 0.3745 - val_accuracy: 0.8421\n",
      "Epoch 96/100\n",
      "5359/5359 [==============================] - 1s 164us/sample - loss: 0.3478 - accuracy: 0.8556 - val_loss: 0.3745 - val_accuracy: 0.8425\n",
      "Epoch 97/100\n",
      "5359/5359 [==============================] - 1s 165us/sample - loss: 0.3477 - accuracy: 0.8556 - val_loss: 0.3744 - val_accuracy: 0.8425\n",
      "Epoch 98/100\n",
      "5359/5359 [==============================] - 1s 161us/sample - loss: 0.3476 - accuracy: 0.8548 - val_loss: 0.3744 - val_accuracy: 0.8421\n",
      "Epoch 99/100\n",
      "5359/5359 [==============================] - 1s 164us/sample - loss: 0.3476 - accuracy: 0.8554 - val_loss: 0.3744 - val_accuracy: 0.8429\n",
      "Epoch 100/100\n",
      "5359/5359 [==============================] - 1s 233us/sample - loss: 0.3473 - accuracy: 0.8558 - val_loss: 0.3744 - val_accuracy: 0.8425\n"
     ]
    }
   ],
   "source": [
    "history = model.fit(X_train,np.array(y_train), epochs=100,validation_split=0.33)"
   ]
  },
  {
   "cell_type": "code",
   "execution_count": 51,
   "metadata": {},
   "outputs": [
    {
     "name": "stdout",
     "output_type": "stream",
     "text": [
      "\r",
      "2000/1 [================================================================================================================================================================================================================================================================================================================================================================================================================================================================================================================================================================================================================================================================================================================================================================================================================================================================================================================================================================================================================================================================================================================================================================================================================================================================================================================================================================================================================================================================================================================================================================================================================================================================================================================================================================================================================================================================================================================================================================================================================================================================================================================================================================================================================================================================================================================================================================================================================================================================================================================================================================================================================================================================================================================================================================================================================================================================================================================================================================================================================================================================================================================================================================================================================================================================================================================================================================================================================================================================================================================================================================================================================================================================================================================================================================================================================================================================================================================================================================================================================================================================================================================================================================================================================================================================================================================================================================================================================================================================================================================================================================================================================================================================================================================================================================================================================================================================================================================================================================================================================================================================================================================================================================================================================================================================================================================================================================================================================================================================================================================================================================================================================================================================================================================================================================================================================================================================================================================================================================================================================================================================================================================================================================================================================================================================================================================================================================================================================================================================================================================================================================================================================================================================================================================================================================================================================================================================================================================================================================================================================================================================================================================================================================================================================================================================================================================================================================================================================================================================================================================================================================================================================================================================================================================================================================================================================================================================================================================================================================================================================================================================================================================================================================================================================================================================================================================================================================================================================================================================================================================================================================================================================================================================================================================================================================================================================================================================================================================================================================================================================================================================================================================================================================================================================================================================================================================================================================================================================================================================================================================================================================================================================================================================================================================================================================================================================================================================================================================================================================================================================================================================================================================================================================================================================================================================================================================================================================================================================================================================================================================================================================================================================================================================================================================================================================================================================================================================================================================================================================================================================================================================================================================================================================================================================================================================================================================================================================================================================================================================================================================================================================================================================================================================================================================================================================================================================================================================================================================================================================================================================================================================================================================================================================================================================================================================================================================================================================================================================================================================================================================================================================================================================================================================================================================================================================================================================================================================================================================================================================================================================================================================================================================================================================================================================================================================================================================================================================================================================================================================================================================================================================================================================================================================================================================================================================================================================================================================================================================================================================================================================================================================================================================================================================================================================================================================================================================================================================================================================================================================================================================================================================================================================================================================================================================================================================================================================================================================================================================================================================================================================================================================================================================================================================================================================================================================================================================================================================================================================================================================================================================================================================================================================================================================================================================================================================================================================================================================================================================================================================================================================================================================================================================================================================================================================================================================================================================================================================================================================================================================================================================================================================================================================================================================================================================================================================================================================================================================================================================================================================================================================================================================================================================================================================================================================================================================================================================================================================================================================================================================================================================================================================================================================================================================================================================================================================================================================================================================================================================================================================================================================================================================================================================================================================================================================================================================================================================================================================================================================================================================================================================================================================================================================================================================================================================================================================================================================================================================================================================================================================================================================================================================================================================================================================================================================================================================================================================================================================================================================================================================================================================================================================================================================================================================================================================================================================================================================================================================================================================================================================================================================================================================================================================================================================================================================================================================================================================================================================================================================================================================================================================================================================================================================================================================================================================================================================================================================================================================================================================================================================================================================================================================================================================================================================================================================================================================================================================================================================================================================================================================================================================================================================================================================================================================================================================================================================================================================================================================================================================================================================================================================================================================================================================================================================================================================================================================================================================================================================================================================================================================================================================================================================================================================================================================================================================================================================================================================================================================================================================================================================================================================================================================================================================================================================================================================================================================================================================================================================================================================================================================================================================================================================================================================================================================================================================================================================================================================================================================================================================================================================================================================================================================================================================================================================================================================================================================================================================================================================================================================================================================================================================================================================================================================================================================================================================================================================================================================================================================================================================================================================================================================================================================================================================================================================================================================================================================================================================================================================================================================================================================================================================================================================================================================================================================================================================================================================================================================================================================================================================================================================================================================================================================================================================================================================================================================================================================================================================================================================================================================================================================================================================================================================================================================================================================================================================================================================================================================================================================================================================================================================================================================================================================================================================================================================================================================================================================================================================================================================================================================================================================================================================================================================================================================================================================================================================================================================================================================================================================================================================================================================================================================================================================================================================================================================================================================================================================================================================================================================================================================================================================================================================================================================================================================================================================================================================================================================================================================================================================================================================================================================================================================================================================================================================================================================================================================================================================================================================================================================================================================================================================================================================================================================================================================================================================================================================================================================================================================================================================================================================================================================================================================================================================================================================================================================================================================================================================================================================================================================================================================================================================================================================================================================================================================================================================================================================================================================================================================================================================================================================================================================================================================================================================================================================================================================================================================================================================================================================================================================================================================================================================================================================================================================================================================================================================================================================================================================================================================================================================================================================================================================================================================================================================================================================================================================================================================================================================================================================================================================================================================================================================================================================================================================================================================================================================================================================================================================================================================================================================================================================================================================================================================================================================================================================================================================================================================================================================================================================================================================================================================================================================================================================================================================================================================================================================================================================================================================================================================================================================================================================================================================================================================================================================================================================================================================================================================================================================================================================================================================================================================================================================================================================================================================================================================================================================================================================================================================================================================================================================================================================================================================================================================================================================================================================================================================================================================================================================================================================================================================================================================================================================================================================================================================================================================================================================================================================================================================================================================================================================================================================================================================================================================================================================================================================================================================================================================================================================================================================================================================================================================================================================================================================================================================================================================================================================================================================================================================================================================================================================================================================================================================================================================================================================================================================================================================================================================================================================================================================================================================================================================================================================================================================================================================================================================================================================================================================================================================================================================================================================================================================================================================================================================================================================================================================================================================================================================================================================================================================================================================================================================================================================================================================================================================================================================================================================================================================================================================================================================================================================================================================================================================================================================================================================================================================================================================================================================================================================================================================================================================================================================================================================================================================================================================================================================================================================================================================================================================================================================================================================================================================================================================================================================================================================================================================================================================================================================================================================================================================================================================================================================================================================================================================================================================================================================================================================================================================================================================================================================================================================================================================================================================================================================================================================================================================================================================================================================================================================================================================================================================================================================================================================================================================================================================================================================================================================================================================================================================================================================================================================================================================================================================================================================================================================================================================================================================================================================================================================================================================================================================================================================================================================================================================================================================================================================================================================================================================================================================================================================================================================================================================================================================================================================================================================================================================================================================================================================================================================================================================================================================================================================================================================================================================================================================================================================================================================================================================================================================================================================================================================================================================================================================================================================================================================================================================================================================================================================================================================================================================================================================================================================================================================================================================================================================================================================================================================================================================================================================================================================================================================================================================================================================================================================================================================================================================================================================================================================================================================================================================================================================================================================================================================================================================================================================================================================================================================================================================================================================================================================================================================================================================================================================================================================================================================================================================================================================================================================================================================================================================================================================================================================================================================================================================================================================================================================================================================================================================================================================================================================================================================================================================================================================================================================================================================================================================================================================================================================================================================================================================================================================================================================================================================================================================================================================================================================================================================================================================================================================================================================================================================================================================================================================================================================================================================================================================================================================================================================================================================================================================================================================================================================================================================================================================================================================================================================================================================================================================================================================================================================================================================================================================================================================================================================================================================================================================================================================================================================================================================================================================================================================================================================================================================================================================================================================================================================================================================================================================================================================================================================================================================================================================================================================================================================================================================================================================================================================================================================================================================================================================================================================================================================================================================================================================================================================================================================================================================================================================================================================================================================================================================================================================================================================================================================================================================================================================================================================================================================================================================================================================================================================================================================================================================================================================================================================================================================================================================================================================================================================================================================================================================================================================================================================================================================================================================================================================================================================================================================================================================================================================================================================================================================================================================================================================================================================================================================================================================================================================================================================================================================================================================================================================================================================================================================================================================================================================================================================================================================================================================================================================================================================================================================================================================================================================================================================================================================================================================================================================================================================================================================================================================================================================================================================================================================================================================================================================================================================================================================================================================================================================================================================================================================================================================================================================================================================================================================================================================================================================================================================================================================================================================================================================================================================================================================================================================================================================================================================================================================================================================================================================================================================================================================================================================================================================================================================================================================================================================================================================================================================================================================================================================================================================================================================================================================================================================================================================================================================================================================================================================================================================================================================================================================================================================================================================================================================================================================================================================================================================================================================================================================================================================================================================================================================================================================================================================================================================================================================================================================================================================================================================================================================================================================================================================================================================================================================================================================================================================================================================================================================================================================================================================================================================================================================================================================================================================================================================================================================================================================================================================================================================================================================================================================================================================================================================================================================================================================================================================================================================================================================================================================================================================================================================================================================================================================================================================================================================================================================================================================================================================================================================================================================================================================================================================================================================================================================================================================================================================================================================================================================================================================================================================================================================================================================================================================================================================================================================================================================================================================================================================================================================================================================================================================================================================================================================================================================================================================================================================================================================================================================================================================================================================================================================================================================================================================================================================================================================================================================================================================================================================================================================================================================================================================================================================================================================================================================================================================================================================================================================================================================================================================================================================================================================================================================================================================================================================================================================================================================================================================================================================================================================================================================================================================================================================================================] - 0s 71us/sample - loss: 0.2478 - accuracy: 0.8455\n"
     ]
    },
    {
     "data": {
      "text/plain": [
       "[0.3577617028951645, 0.8455]"
      ]
     },
     "execution_count": 51,
     "metadata": {},
     "output_type": "execute_result"
    }
   ],
   "source": [
    "result=model.evaluate(X_test, np.array(y_test))\n",
    "result"
   ]
  },
  {
   "cell_type": "code",
   "execution_count": 52,
   "metadata": {},
   "outputs": [
    {
     "name": "stdout",
     "output_type": "stream",
     "text": [
      "dict_keys(['loss', 'accuracy', 'val_loss', 'val_accuracy'])\n"
     ]
    }
   ],
   "source": [
    "print(history.history.keys())"
   ]
  },
  {
   "cell_type": "code",
   "execution_count": 53,
   "metadata": {},
   "outputs": [
    {
     "data": {
      "image/png": "[encoded data removed]",
      "text/plain": [
       "<Figure size 432x288 with 1 Axes>"
      ]
     },
     "metadata": {
      "needs_background": "light"
     },
     "output_type": "display_data"
    }
   ],
   "source": [
    "plt.plot(history.history['accuracy'])\n",
    "plt.plot(history.history['val_accuracy'])\n",
    "plt.title('model accuracy')\n",
    "plt.ylabel('accuracy')\n",
    "plt.xlabel('epoch')\n",
    "plt.legend(['train', 'test'], loc='upper left')\n",
    "plt.show()"
   ]
  },
  {
   "cell_type": "code",
   "execution_count": 54,
   "metadata": {},
   "outputs": [
    {
     "data": {
      "image/png": "[encoded data removed]",
      "text/plain": [
       "<Figure size 432x288 with 1 Axes>"
      ]
     },
     "metadata": {
      "needs_background": "light"
     },
     "output_type": "display_data"
    }
   ],
   "source": [
    "plt.plot(history.history['loss'])\n",
    "plt.plot(history.history['val_loss'])\n",
    "plt.title('model loss')\n",
    "plt.ylabel('loss')\n",
    "plt.xlabel('epoch')\n",
    "plt.legend(['train', 'test'], loc='upper left')\n",
    "plt.show()"
   ]
  },
  {
   "cell_type": "code",
   "execution_count": 55,
   "metadata": {},
   "outputs": [
    {
     "data": {
      "image/png": "[encoded data removed]",
      "text/plain": [
       "<Figure size 576x360 with 1 Axes>"
      ]
     },
     "metadata": {
      "needs_background": "light"
     },
     "output_type": "display_data"
    }
   ],
   "source": [
    "import pandas as pd\n",
    "\n",
    "pd.DataFrame(history.history).plot(figsize=(8, 5))\n",
    "plt.grid(True)\n",
    "plt.gca().set_ylim(0, 1)\n",
    "plt.show()"
   ]
  },
  {
   "cell_type": "code",
   "execution_count": 68,
   "metadata": {},
   "outputs": [
    {
     "data": {
      "text/plain": [
       "array([0.32247305], dtype=float32)"
      ]
     },
     "execution_count": 68,
     "metadata": {},
     "output_type": "execute_result"
    }
   ],
   "source": [
    "y_predicted = model.predict(X_test)\n",
    "y_predicted[0]"
   ]
  },
  {
   "cell_type": "code",
   "execution_count": 69,
   "metadata": {},
   "outputs": [
    {
     "data": {
      "text/plain": [
       "array([[0.32247305],\n",
       "       [0.39893773],\n",
       "       [0.08232048],\n",
       "       [0.07024857],\n",
       "       [0.06664792],\n",
       "       [0.86709064],\n",
       "       [0.03571546],\n",
       "       [0.14190555],\n",
       "       [0.40401953]], dtype=float32)"
      ]
     },
     "execution_count": 69,
     "metadata": {},
     "output_type": "execute_result"
    }
   ],
   "source": [
    "y_predicted[:9]"
   ]
  },
  {
   "cell_type": "code",
   "execution_count": null,
   "metadata": {},
   "outputs": [],
   "source": []
  },
  {
   "cell_type": "code",
   "execution_count": 63,
   "metadata": {},
   "outputs": [],
   "source": [
    "y_pred = []\n",
    "for element in y_predicted:\n",
    "    if element > 0.5:\n",
    "        y_pred.append(1)\n",
    "    else:\n",
    "        y_pred.append(0)\n"
   ]
  },
  {
   "cell_type": "code",
   "execution_count": 30,
   "metadata": {},
   "outputs": [],
   "source": [
    "import tensorflow as tf"
   ]
  },
  {
   "cell_type": "code",
   "execution_count": 73,
   "metadata": {},
   "outputs": [],
   "source": [
    "cm=tf.math.confusion_matrix(labels=y_test,predictions=y_pred)"
   ]
  },
  {
   "cell_type": "code",
   "execution_count": 74,
   "metadata": {},
   "outputs": [
    {
     "data": {
      "text/plain": [
       "<tf.Tensor: id=155240, shape=(2, 2), dtype=int32, numpy=\n",
       "array([[1506,   89],\n",
       "       [ 220,  185]])>"
      ]
     },
     "execution_count": 74,
     "metadata": {},
     "output_type": "execute_result"
    }
   ],
   "source": [
    "cm"
   ]
  },
  {
   "cell_type": "code",
   "execution_count": 75,
   "metadata": {},
   "outputs": [
    {
     "data": {
      "text/plain": [
       "Text(69.0, 0.5, 'Truth')"
      ]
     },
     "execution_count": 75,
     "metadata": {},
     "output_type": "execute_result"
    },
    {
     "data": {
      "image/png": "[encoded data removed]",
      "text/plain": [
       "<Figure size 720x504 with 2 Axes>"
      ]
     },
     "metadata": {
      "needs_background": "light"
     },
     "output_type": "display_data"
    }
   ],
   "source": [
    "import seaborn as sn\n",
    "plt.figure(figsize = (10,7))\n",
    "sn.heatmap(cm, annot=True, fmt='d')\n",
    "plt.xlabel('Predicted')\n",
    "plt.ylabel('Truth')"
   ]
  },
  {
   "cell_type": "code",
   "execution_count": 70,
   "metadata": {},
   "outputs": [
    {
     "data": {
      "text/plain": [
       "0.85"
      ]
     },
     "execution_count": 70,
     "metadata": {},
     "output_type": "execute_result"
    }
   ],
   "source": [
    "round((1506+185)/(1506+165+220+89),2)"
   ]
  },
  {
   "cell_type": "code",
   "execution_count": 71,
   "metadata": {},
   "outputs": [
    {
     "data": {
      "text/plain": [
       "0.87"
      ]
     },
     "execution_count": 71,
     "metadata": {},
     "output_type": "execute_result"
    }
   ],
   "source": [
    "round((1506)/(1506+220),2)"
   ]
  },
  {
   "cell_type": "code",
   "execution_count": 72,
   "metadata": {},
   "outputs": [
    {
     "data": {
      "text/plain": [
       "0.68"
      ]
     },
     "execution_count": 72,
     "metadata": {},
     "output_type": "execute_result"
    }
   ],
   "source": [
    "round((185)/(89+185),2)"
   ]
  }
 ],
 "metadata": {
  "kernelspec": {
   "display_name": "myenv",
   "language": "python",
   "name": "myenv"
  },
  "language_info": {
   "codemirror_mode": {
    "name": "ipython",
    "version": 3
   },
   "file_extension": ".py",
   "mimetype": "text/x-python",
   "name": "python",
   "nbconvert_exporter": "python",
   "pygments_lexer": "ipython3",
   "version": "3.6.12"
  }
 },
 "nbformat": 4,
 "nbformat_minor": 4
}
